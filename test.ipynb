{
 "cells": [
  {
   "cell_type": "markdown",
   "id": "897d9ccc",
   "metadata": {},
   "source": [
    "# Setup for graphics with Python and Matplotlib\n",
    "\n",
    "Adapted from https://www.kosbie.net/cmu/spring-14/15-112/handouts/hw2.html"
   ]
  },
  {
   "cell_type": "code",
   "execution_count": null,
   "id": "d8495a9b",
   "metadata": {},
   "outputs": [],
   "source": [
    "import matplotlib.pyplot as plt\n",
    "\n",
    "%matplotlib inline"
   ]
  },
  {
   "cell_type": "markdown",
   "id": "9f9a5442",
   "metadata": {},
   "source": [
    "# Example: my first plot\n",
    "\n",
    "The below code shows the following (x,y) coordinate pairs:\n",
    "\n",
    "    (1,1)\n",
    "    (2,2)\n",
    "    (3,1)\n",
    "\n",
    "as markers connected with line segments.\n",
    "\n",
    "The x and y coordinates are each given as <em>lists</em>, created with square brackets `[` and `]` in Python."
   ]
  },
  {
   "cell_type": "code",
   "execution_count": null,
   "id": "d2c1c50d",
   "metadata": {},
   "outputs": [],
   "source": [
    "plt.plot([1,2,3], [1,2,1], marker='o', color='blue')\n",
    "plt.show()"
   ]
  },
  {
   "cell_type": "markdown",
   "id": "0683f97f",
   "metadata": {},
   "source": [
    "# Example: get help\n",
    "\n",
    "Type `?` after a function and run the code cell to get help.\n",
    "\n",
    "You can also use the `help(...)` function."
   ]
  },
  {
   "cell_type": "code",
   "execution_count": null,
   "id": "5ec74bc0",
   "metadata": {},
   "outputs": [],
   "source": [
    "plt.plot?"
   ]
  },
  {
   "cell_type": "code",
   "execution_count": null,
   "id": "dbd56903",
   "metadata": {},
   "outputs": [],
   "source": [
    "help(plt.plot)"
   ]
  },
  {
   "cell_type": "markdown",
   "id": "c528378c",
   "metadata": {},
   "source": [
    "# Your turn: plot a parabola\n",
    "\n",
    "Enter (x,y) points to make Python graph a parabola for you.\n",
    "\n",
    "Hint: Python is also a calculator.  You can write code like `4**2` to get 4 raised to the 2nd power."
   ]
  },
  {
   "cell_type": "code",
   "execution_count": null,
   "id": "454fde51",
   "metadata": {},
   "outputs": [],
   "source": [
    "print(4**2)"
   ]
  },
  {
   "cell_type": "code",
   "execution_count": null,
   "id": "b4ae4064",
   "metadata": {},
   "outputs": [],
   "source": [
    "plt.plot()  # put your code here\n",
    "plt.show()"
   ]
  },
  {
   "cell_type": "markdown",
   "id": "aef3c2c5",
   "metadata": {},
   "source": [
    "# Example: circles"
   ]
  },
  {
   "cell_type": "code",
   "execution_count": null,
   "id": "df7f3ed1",
   "metadata": {},
   "outputs": [],
   "source": [
    "# Code taken from\n",
    "# https://stackoverflow.com/questions/9215658/plot-a-circle-with-pyplot\n",
    "\n",
    "circle1 = plt.Circle((0, 0), 0.2, color='r')\n",
    "circle2 = plt.Circle((0.5, 0.5), 0.2, color='blue')\n",
    "circle3 = plt.Circle((1, 1), 0.2, color='g', clip_on=False)\n",
    "\n",
    "fig, ax = plt.subplots() # note we must use plt.subplots, not plt.subplot\n",
    "# (or if you have an existing figure)\n",
    "# fig = plt.gcf()\n",
    "# ax = fig.gca()\n",
    "\n",
    "ax.add_patch(circle1)\n",
    "ax.add_patch(circle2)\n",
    "ax.add_patch(circle3)\n",
    "\n",
    "plt.show()"
   ]
  },
  {
   "cell_type": "code",
   "execution_count": null,
   "id": "3d353927",
   "metadata": {},
   "outputs": [],
   "source": [
    "# To not have extra variables lying around, that might confuse us later\n",
    "# But we need to keep \"plt\" because we're re-using that library to draw everything.\n",
    "\n",
    "del circle1, circle2, circle3, fig, ax"
   ]
  },
  {
   "cell_type": "markdown",
   "id": "79fe204e",
   "metadata": {},
   "source": [
    "# Example: use pre-made functions to draw big and small circles\n",
    "\n",
    "Similar to the `drawCircle(canvas, x0, y0, x1, y1)` in\n",
    "https://www.kosbie.net/cmu/spring-14/15-112/handouts/hw2.html"
   ]
  },
  {
   "cell_type": "code",
   "execution_count": null,
   "id": "513fa3c8",
   "metadata": {},
   "outputs": [],
   "source": [
    "def rgbString(red, green, blue):\n",
    "    return \"#%02x%02x%02x\" % (red, green, blue)"
   ]
  },
  {
   "cell_type": "code",
   "execution_count": null,
   "id": "59bc5abf",
   "metadata": {},
   "outputs": [],
   "source": [
    "def drawCircle(x0, y0, radius):\n",
    "    \n",
    "    if (radius > 100):\n",
    "        fill = \"blue\"\n",
    "    else:\n",
    "        fill = rgbString(147, 197, 114) # pistachio!\n",
    "    \n",
    "    myCircle = plt.Circle((x0, y0), radius, color=fill)\n",
    "    \n",
    "    # Put the circle into the current plot Axes.\n",
    "    # gca means \"get current Axes\"\n",
    "    plt.gca().add_patch(myCircle)"
   ]
  },
  {
   "cell_type": "code",
   "execution_count": null,
   "id": "3bf6825b",
   "metadata": {},
   "outputs": [],
   "source": [
    "drawCircle(-500, 0, 100)\n",
    "drawCircle(400, 400, 400)\n",
    "\n",
    "# choose what part of the plotting area to show\n",
    "plt.xlim(-1000, +1000)\n",
    "plt.ylim(-1000, +1000)\n",
    "\n",
    "# make the plot units matched in size, so circles look like circles instead of ovals\n",
    "plt.gca().set_aspect('equal')\n",
    "\n",
    "plt.show()"
   ]
  },
  {
   "cell_type": "markdown",
   "id": "42799109",
   "metadata": {},
   "source": [
    "# Your turn to create functions\n",
    "\n",
    "Instructions at:\n",
    "https://www.kosbie.net/cmu/spring-14/15-112/handouts/hw2.html\n",
    "\n",
    "The starter functions are a little bit different, since we chose to use matplotlib instead of Tkinter."
   ]
  },
  {
   "cell_type": "code",
   "execution_count": null,
   "id": "9e3e198b",
   "metadata": {},
   "outputs": [],
   "source": [
    "def drawCircleGradient(x0, y0, outerRadius):\n",
    "    # your code here\n",
    "    # delete the placeholder \"pass\" after you put in your own code\n",
    "    pass"
   ]
  },
  {
   "cell_type": "code",
   "execution_count": null,
   "id": "589bbed4",
   "metadata": {},
   "outputs": [],
   "source": [
    "drawCircleGradient()  # your code here\n",
    "plt.show()"
   ]
  },
  {
   "cell_type": "code",
   "execution_count": null,
   "id": "d272c71d",
   "metadata": {},
   "outputs": [],
   "source": [
    "def drawLinePattern(left, top, right, bottom):\n",
    "    # your code here\n",
    "    # delete the placeholder \"pass\" after you put in your own code\n",
    "    pass"
   ]
  },
  {
   "cell_type": "code",
   "execution_count": null,
   "id": "dc8f681e",
   "metadata": {},
   "outputs": [],
   "source": [
    "drawLinePattern()  # your code here\n",
    "plt.show()"
   ]
  },
  {
   "cell_type": "code",
   "execution_count": null,
   "id": "1e4a0d8d",
   "metadata": {},
   "outputs": [],
   "source": [
    "def drawCrazyCubes(x0, y0, x1, y1):\n",
    "    # your code here\n",
    "    # delete the placeholder \"pass\" after you put in your own code\n",
    "    pass"
   ]
  },
  {
   "cell_type": "code",
   "execution_count": null,
   "id": "26382d45",
   "metadata": {},
   "outputs": [],
   "source": [
    "drawCrazyCubes()  # your code here\n",
    "plt.show()"
   ]
  },
  {
   "cell_type": "code",
   "execution_count": null,
   "id": "014a20a0",
   "metadata": {},
   "outputs": [],
   "source": [
    "def drawHexagonsBonus(x0, y0, x1, y1):\n",
    "    # your code here\n",
    "    # delete the placeholder \"pass\" after you put in your own code\n",
    "    pass"
   ]
  },
  {
   "cell_type": "code",
   "execution_count": null,
   "id": "5f38689d",
   "metadata": {},
   "outputs": [],
   "source": [
    "drawHexagonsBonus()  # your code here\n",
    "plt.show()"
   ]
  }
 ],
 "metadata": {
  "kernelspec": {
   "display_name": "Python 3 (ipykernel)",
   "language": "python",
   "name": "python3"
  },
  "language_info": {
   "codemirror_mode": {
    "name": "ipython",
    "version": 3
   },
   "file_extension": ".py",
   "mimetype": "text/x-python",
   "name": "python",
   "nbconvert_exporter": "python",
   "pygments_lexer": "ipython3",
   "version": "3.9.7"
  }
 },
 "nbformat": 4,
 "nbformat_minor": 5
}
